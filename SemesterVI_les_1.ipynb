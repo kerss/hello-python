{
 "cells": [
  {
   "cell_type": "markdown",
   "id": "ff64d244",
   "metadata": {},
   "source": [
    "# Python voor ATE: Deel 1\n",
    "## 1. Intro\n",
    "Welkom bij de ATE IV Python les. In deze serie van 4 lessen gaan we je wegwijs maken in Python, de meest populaire programmeer taal van dit moment. Python, in 1991 ge-released door Nederlander Guido van Rossum, is een open-source programmeertaal met een sterke focus op leesbaarheid. Het word breed toegepast voor bijvoorbeeld data-science, AI, web-development en Internet-of-Things (bijv. mbv een Raspberry Pi).\n",
    "\n",
    "### Waarom Python\n",
    "- Een van de meest eenvoudige programmeer talen om te leren omdat de taal goed leesbaar is en omdat er veel voorbeelden en tutorials beschikbaar zijn\n",
    "\n",
    "- Er zijn veel, en erg goede libraries beschikbaar om de functionaliteit van Python uit te breiden. Bekende voorbeelden van veelgebruikte libraries zijn: NumPy, SciPy, Pandas (Data manipulatie) en matplotlib (Plotten alla Matlab)\n",
    "\n",
    "- Rapid prototyping met een Raspberry Pi. Zinvol voor jullie als toekomstig engineers, omdat het eenvoudig is om allerlei sensoren en actuatoren aan te sluiten en een regelaar te implementeren\n",
    "\n",
    "### In het kort\n",
    "Python is een stukje software dat .py bestanden (scripts) kan uitvoeren. \n",
    "\n",
    "### Deze les\n",
    "In deze eerste les behandelen we allerlei generieke aspecten van Python, de basic building blocks. Intro over Notebooks"
   ]
  },
  {
   "cell_type": "markdown",
   "id": "4bef0d30",
   "metadata": {},
   "source": [
    "## 2. Variabelen\n",
    "Het aanmaken van een variabele gaat als volgt:\n",
    "variable_naam = expression\n",
    "\n",
    "Verder is hieronder aangegeven hoe op- en afgeteld kan worden (2 manieren), hoe je vermenigvuldigd en deelt."
   ]
  },
  {
   "cell_type": "code",
   "execution_count": 12,
   "id": "a6700bf2",
   "metadata": {},
   "outputs": [
    {
     "name": "stdout",
     "output_type": "stream",
     "text": [
      "2.0\n"
     ]
    }
   ],
   "source": [
    "variabele = 1.0\n",
    "\n",
    "variabele = variabele + 1.\n",
    "# of\n",
    "variabele += 1.\n",
    "\n",
    "variabele = variabele - 1.\n",
    "# of\n",
    "variabele -= 1.\n",
    "\n",
    "variabele = variabele * 10.\n",
    "variabele = variabele / 5.\n",
    "\n",
    "print(variabele)"
   ]
  },
  {
   "cell_type": "markdown",
   "id": "7e50e222",
   "metadata": {},
   "source": [
    "## 3. Vier verschillende data typen\n",
    "Voor variabelen zijn binnen Python 4 verschillende data typen:\n",
    "\n",
    "- int: een integer, ofwel een heel getal: 1, 2, 3 ... etc.\n",
    "- float: floating point number, ofwel een kommagetal: 1.1, 2.02, 3.03 ... etc.\n",
    "- bool: een logical (true of false), meestal de uitkomst van een vergelijking: (a == b), (a != b), (a < b), etc.  \n",
    "- str: een string, ofwel een reeks karakters: \"hello\" en 'world'\n",
    "\n",
    "Het aanmaken gaat als volgt:"
   ]
  },
  {
   "cell_type": "code",
   "execution_count": 19,
   "id": "0952555a",
   "metadata": {
    "scrolled": true
   },
   "outputs": [
    {
     "name": "stdout",
     "output_type": "stream",
     "text": [
      "1423423  is een  <class 'int'>\n",
      "1.0  is een  <class 'float'>\n",
      "True  is een  <class 'bool'>\n",
      "Hello world  is een  <class 'str'>\n"
     ]
    }
   ],
   "source": [
    "a = 1423423\n",
    "b = 1.\n",
    "c = True\n",
    "d = \"Hello world\"\n",
    "\n",
    "for variabele in (a, b, c, d):\n",
    "    print(variabele, \" is een \", type(variabele))"
   ]
  },
  {
   "cell_type": "markdown",
   "id": "a3dae7a6",
   "metadata": {},
   "source": [
    "<div class=\"alert alert-block alert-info\">\n",
    "<b>Let op:</b> Alhoewel zowel integers als floats een getal bevatten en dus op elkaar lijken, zijn ze wel degelijk verschillend.     \n",
    "    <div>\n",
    "        <b>&#9658 Integers</b> worden gebruikt als teller, om bijvoorbeeld bij te houden hoe vaak iets is gebeurd. Het is altijd een heel getal. Een integer word aangemaakt door bij declaratie geen punt (.) achter het getal te zetten.\n",
    "    </div>    \n",
    "    <div>\n",
    "        <b>&#9658 Floats</b> worden gebruikt voor mathematische berekeningen. Een float is altijd een komma getal, en word aangemaakt door een punt toe te voegen aan het eind, of een kommagetal in te voeren.\n",
    "    </div>\n",
    "</div>\n"
   ]
  },
  {
   "cell_type": "markdown",
   "id": "90ba6dd9",
   "metadata": {},
   "source": [
    "## 4. User input & data conversie\n",
    "Om input te vragen van de gebruiker kan de input() functie gebruikt worden:"
   ]
  },
  {
   "cell_type": "code",
   "execution_count": 14,
   "id": "c0c48cdf",
   "metadata": {},
   "outputs": [
    {
     "name": "stdout",
     "output_type": "stream",
     "text": [
      "Vul een getal in: 5\n",
      "\n",
      "Deze input is altijd een <class 'str'> (string), en zal ge-converteerd moeten worden naar een integer of float om hem te gebruiken als teller of voor een berekening\n"
     ]
    }
   ],
   "source": [
    "getal = input(\"Vul een getal in: \")\n",
    "\n",
    "print(\"\\nDeze input is altijd een\", type(getal), \"(string), en zal ge-converteerd moeten \" \\\n",
    "      \"worden naar een integer of float om hem te gebruiken als teller of voor een berekening\")"
   ]
  },
  {
   "cell_type": "markdown",
   "id": "4448a65d",
   "metadata": {},
   "source": [
    "Laten we eerst even alle data conversies behandelen:"
   ]
  },
  {
   "cell_type": "code",
   "execution_count": 4,
   "id": "a1580b65",
   "metadata": {},
   "outputs": [
    {
     "name": "stdout",
     "output_type": "stream",
     "text": [
      "4 is een <class 'int'>\n",
      "4.0 is een <class 'float'>\n",
      "4 is een <class 'str'>\n",
      "True is een <class 'bool'>\n"
     ]
    }
   ],
   "source": [
    "a = int(getal)\n",
    "b = float(getal)\n",
    "c = str(getal)\n",
    "d = bool(getal) # zero = False, non-zero = True\n",
    "\n",
    "for variabele in (a, b, c, d):\n",
    "    print(variabele, \"is een\", type(variabele))"
   ]
  },
  {
   "cell_type": "markdown",
   "id": "da8fb344",
   "metadata": {},
   "source": [
    "Het kan zinvol zijn om een input direct te converteren naar het type waarin je geinteresseerd bent, zodat de data gelijk in het goede format staan, en er later minder fouten zullen optreden. Op deze manier zal er namelijk gelijk een fout optreden, als de data niet correct is.\n",
    "\n",
    "Een voorbeeld, waarbij het ingevoerde komma getal een x aantal keer word opgeteld (in een for loop):"
   ]
  },
  {
   "cell_type": "code",
   "execution_count": 36,
   "id": "0bc3bd5d",
   "metadata": {},
   "outputs": [
    {
     "name": "stdout",
     "output_type": "stream",
     "text": [
      "Voer een getal in: 4\n",
      "Voer een aantal vermenigvuldigingen in: 2\n",
      "2  x  4  =  8\n"
     ]
    }
   ],
   "source": [
    "cijfer = int(input(\"Voer een getal in: \"))\n",
    "aantal = int(input(\"Voer een aantal vermenigvuldigingen in: \"))\n",
    "\n",
    "uitkomst = 0\n",
    "for _ in range(aantal):\n",
    "    uitkomst = uitkomst + cijfer\n",
    "    \n",
    "print(aantal, \" x \", cijfer, \" = \", uitkomst)"
   ]
  },
  {
   "cell_type": "markdown",
   "id": "134c5429",
   "metadata": {},
   "source": [
    "<div class=\"alert alert-block alert-warning\">\n",
    "<b>Opdracht:</b> Verander bovenstaand stuk code zodanig dat het getal dat vermenigvuldigd word een komma getal word ...\n",
    "</div>"
   ]
  },
  {
   "cell_type": "markdown",
   "id": "6f44b612",
   "metadata": {},
   "source": [
    "## 5. If - else logica\n",
    "Een belangrijke basis voor het programmeren is het if statement, waarmee gecheckt word of een bepaalde voorwaarde True of False is, en vervolgens bepaald word wat te doen. Een voorbeeld: "
   ]
  },
  {
   "cell_type": "code",
   "execution_count": 40,
   "id": "c968ec58",
   "metadata": {},
   "outputs": [
    {
     "name": "stdout",
     "output_type": "stream",
     "text": [
      "Voer een integer getal in: 6\n",
      "Het getal is groter 4 en kleiner of gelijk aan 10 ( 6 )\n"
     ]
    }
   ],
   "source": [
    "getal = int(input(\"Voer een integer getal in: \"))\n",
    "\n",
    "if getal == 0:\n",
    "    print(\"Het getal is nul (\", getal, \")\")\n",
    "    \n",
    "elif getal < 5:\n",
    "    print(\"Het getal is kleiner dan 5 (\", getal, \")\")\n",
    "    \n",
    "elif getal <= 10:\n",
    "    print(\"Het getal is groter 4 en kleiner of gelijk aan 10 (\", getal, \")\")\n",
    "    \n",
    "elif getal > 100:\n",
    "    print(\"Het getal is groter dan 100 (\", getal, \")\")\n",
    "    \n",
    "elif getal >= 90:\n",
    "    print(\"Het getal is groter of gelijk aan 90 en kleiner dan 101 (\", getal, \")\")\n",
    "    \n",
    "else:\n",
    "    print(\"Het getal ligt tussen 10 en 90 (\", getal, \")\")   "
   ]
  },
  {
   "cell_type": "markdown",
   "id": "4cc5ed11",
   "metadata": {},
   "source": [
    "<div class=\"alert alert-block alert-info\">\n",
    "<b>Variabelen vergelijken:</b> voor if-else logica is het noodzakelijk om te checken of aan bepaalde voorwaarden word voldaan, dit kan met:\n",
    "    <div>\n",
    "        &nbsp; <b>==</b> (check of 2 variabelen gelijk zijn)\n",
    "    </div>\n",
    "    <div> \n",
    "        &nbsp; <b>!=</b> (check of 2 variabelen verschillend zijn)\n",
    "    </div>\n",
    "    <div> \n",
    "        &nbsp; <b> &gt; </b> (check of links groter is dan rechts)\n",
    "    </div>\n",
    "    <div> \n",
    "        &nbsp; <b> &lt; </b> (check of links kleiner is dan recht)\n",
    "    </div>    \n",
    "</div>"
   ]
  },
  {
   "cell_type": "markdown",
   "id": "f6a63c65",
   "metadata": {},
   "source": [
    "## For loop\n",
    "Met een for loop is het mogelijk:\n",
    "- een stuk code meerdere keren achter elkaar uit te voeren met een teller, met behulp van: range()\n",
    "- een stuk code uit te voeren op verschillende variabelen, door een collectie variabelen aan te voeren\n",
    "\n",
    "Hieronder zijn beide methoden weergegeven met een eenvoudig print statement als uit te voeren code. Dit print statement is in een programma meestal een stuk uitgebreider."
   ]
  },
  {
   "cell_type": "code",
   "execution_count": 32,
   "id": "3c04b35b",
   "metadata": {},
   "outputs": [
    {
     "name": "stdout",
     "output_type": "stream",
     "text": [
      "0\n",
      "1\n",
      "2\n",
      "3\n",
      "4\n",
      "5\n",
      "6\n",
      "7\n",
      "8\n",
      "9\n"
     ]
    }
   ],
   "source": [
    "for idx in range(10):\n",
    "    print(idx)"
   ]
  },
  {
   "cell_type": "code",
   "execution_count": 39,
   "id": "4886706b",
   "metadata": {},
   "outputs": [
    {
     "name": "stdout",
     "output_type": "stream",
     "text": [
      "1\n",
      "4\n",
      "7\n",
      "9\n"
     ]
    }
   ],
   "source": [
    "for item in (1, 4, 7, 9):\n",
    "    print(item)"
   ]
  },
  {
   "cell_type": "markdown",
   "id": "7b5f9b92",
   "metadata": {},
   "source": [
    "<div class=\"alert alert-block alert-warning\">\n",
    "<div>\n",
    "    <b>Opdracht a:</b> Verander deel 1 van bovenstaande code zodanig dat de teller de getallen (90, 91, 92, 93, 94, 95, 96, 97, 98, 99, 100) toont. (onder elkaar)\n",
    "</div>\n",
    "<div>\n",
    "    <b>Opdracht a:</b> Verander deel 2 van bovenstaande code zodanig zodat de for loop itereert over een lijst van strings zodanig dat de output (jou voornaam, jou achternaam, jou klas, jou studentnummer) toont. (onder elkaar)\n",
    "</div>\n",
    "</div>"
   ]
  },
  {
   "cell_type": "markdown",
   "id": "928af6c7",
   "metadata": {},
   "source": [
    "## While loops\n",
    "Net als een bij een for loop, stelt een while loop je in staat om een bepaald stuk code meerdere keren achter elkaar te doorlopen. Waar een for loop stopt als de lijst waardoorheen hij itereert leeg is, stopt een while loop wanneer de while conditie false word. Hieronder twee voorbeelden:"
   ]
  },
  {
   "cell_type": "code",
   "execution_count": 41,
   "id": "d45fcae9",
   "metadata": {},
   "outputs": [
    {
     "name": "stdout",
     "output_type": "stream",
     "text": [
      "10\n"
     ]
    }
   ],
   "source": [
    "doorgaan = True\n",
    "teller = 0\n",
    "\n",
    "while doorgaan:\n",
    "    teller += 1\n",
    "    \n",
    "    if teller >= 10:\n",
    "        doorgaan = False\n",
    "        \n",
    "print(teller)"
   ]
  },
  {
   "cell_type": "code",
   "execution_count": 42,
   "id": "1e73e906",
   "metadata": {},
   "outputs": [
    {
     "name": "stdout",
     "output_type": "stream",
     "text": [
      "10\n"
     ]
    }
   ],
   "source": [
    "teller = 0\n",
    "\n",
    "while teller < 10:\n",
    "    teller += 1\n",
    "    \n",
    "print(teller)"
   ]
  },
  {
   "cell_type": "code",
   "execution_count": null,
   "id": "9429f21c",
   "metadata": {},
   "outputs": [],
   "source": []
  }
 ],
 "metadata": {
  "kernelspec": {
   "display_name": "Python 3 (ipykernel)",
   "language": "python",
   "name": "python3"
  },
  "language_info": {
   "codemirror_mode": {
    "name": "ipython",
    "version": 3
   },
   "file_extension": ".py",
   "mimetype": "text/x-python",
   "name": "python",
   "nbconvert_exporter": "python",
   "pygments_lexer": "ipython3",
   "version": "3.10.0"
  }
 },
 "nbformat": 4,
 "nbformat_minor": 5
}
