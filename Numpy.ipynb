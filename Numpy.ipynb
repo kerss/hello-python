{
 "cells": [
  {
   "cell_type": "code",
   "execution_count": 1,
   "id": "0286b29c",
   "metadata": {},
   "outputs": [],
   "source": [
    "import numpy as np"
   ]
  },
  {
   "cell_type": "markdown",
   "id": "ebf4ef99",
   "metadata": {},
   "source": []
  },
  {
   "cell_type": "code",
   "execution_count": 2,
   "id": "e0187e0f",
   "metadata": {},
   "outputs": [
    {
     "data": {
      "text/plain": [
       "array([[1.39069238e-309, 1.39069238e-309],\n",
       "       [1.39069238e-309, 1.39069238e-309],\n",
       "       [1.39069238e-309, 1.39069238e-309]])"
      ]
     },
     "execution_count": 2,
     "metadata": {},
     "output_type": "execute_result"
    }
   ],
   "source": [
    "array_1d = np.array([1,2,3])  \n",
    "array_2d = np.array([(1.5,2,3), (4,5,6)], dtype = float)  \n",
    "array_3d = np.array([[(1.5,2,3), (4,5,6)],[(3,2,1), (4,5,6)]], dtype = float)\n",
    "\n",
    "np.zeros((3,4))                  #Create an array of zeros\n",
    "np.ones((2,3,4),dtype=np.int16)  #Create an array of ones  \n",
    "np.arange(10,25,5)               #Create an array of evenly spaced values (step value)  \n",
    "np.linspace(0,2,9)               #Create an array of evenly spaced values (number of samples)  \n",
    "np.full((2,2),7)                 #Create a constant array  \n",
    "np.eye(2)                        #Create a 2X2 identity matrix  \n",
    "np.random.random((2,2))          #Create an array with random values  \n",
    "np.empty((3,2))                  #Create an empty array\n",
    "\n"
   ]
  },
  {
   "cell_type": "markdown",
   "id": "3bb96d72",
   "metadata": {},
   "source": [
    "## I/O\n",
    "Data opslaan en laden"
   ]
  },
  {
   "cell_type": "code",
   "execution_count": 6,
   "id": "4d2530a3",
   "metadata": {},
   "outputs": [
    {
     "name": "stdout",
     "output_type": "stream",
     "text": [
      "[[0. 0. 0. 0. 0. 0. 0. 0.]\n",
      " [0. 0. 0. 0. 0. 0. 0. 0.]]\n"
     ]
    }
   ],
   "source": [
    "a = np.zeros((2, 8))\n",
    "             \n",
    "np.save('my_array' , a)  \n",
    "# np.savez('my_array', a, b)  \n",
    "b = np.load('my_array.npy')\n",
    "             \n",
    "print(b)"
   ]
  },
  {
   "cell_type": "code",
   "execution_count": 5,
   "id": "68f29632",
   "metadata": {},
   "outputs": [
    {
     "name": "stdout",
     "output_type": "stream",
     "text": [
      "/home/stijn/PythonProjects/hello-python\n"
     ]
    }
   ],
   "source": [
    "#np.loadtxt(\"myfile.txt\")  \n",
    "#np.genfromtxt(\"my_file.csv\", delimiter=',')  \n",
    "#np.savetxt(\"myarray.txt\", a, delimiter=\" \")"
   ]
  },
  {
   "cell_type": "markdown",
   "id": "255accc5",
   "metadata": {},
   "source": [
    "## Array opties"
   ]
  },
  {
   "cell_type": "code",
   "execution_count": 8,
   "id": "140ad935",
   "metadata": {},
   "outputs": [
    {
     "data": {
      "text/plain": [
       "array([[0, 0, 0, 0, 0, 0, 0, 0],\n",
       "       [0, 0, 0, 0, 0, 0, 0, 0]])"
      ]
     },
     "execution_count": 8,
     "metadata": {},
     "output_type": "execute_result"
    }
   ],
   "source": [
    "a = np.zeros((2,8))\n",
    "\n",
    "a.shape  #Array dimensions  \n",
    "len(a)   #Length of array\n",
    "b.ndim   #Number of array dimensions\n",
    "a.size   #Number of array elements  \n",
    "a.dtype  #Data type of array elements \n",
    "a.dtype.name  #Name of data type  \n",
    "a.astype(int) #Convert an array to a different type"
   ]
  },
  {
   "cell_type": "markdown",
   "id": "c3abfcd6",
   "metadata": {},
   "source": [
    "## Data types"
   ]
  },
  {
   "cell_type": "code",
   "execution_count": null,
   "id": "e25568e7",
   "metadata": {},
   "outputs": [],
   "source": [
    "np.int64 #Signed 64-bit integer types  \n",
    "np.float32 #Standard double-precision floating point  \n",
    "np.complex#Complex numbers represented by 128 floats \n",
    "np.bool#Boolean type storing TRUE and FALSE values  \n",
    "np.object#Python object type \n",
    "np.string_#Fixed-length string type  \n",
    "np.unicode_#Fixed-length unicode type"
   ]
  },
  {
   "cell_type": "markdown",
   "id": "c8cec345",
   "metadata": {},
   "source": [
    "## Essential operations"
   ]
  },
  {
   "cell_type": "code",
   "execution_count": 18,
   "id": "4e474104",
   "metadata": {},
   "outputs": [
    {
     "name": "stdout",
     "output_type": "stream",
     "text": [
      "[[ True  True  True]\n",
      " [ True  True  True]]\n",
      "[[ True  True  True]\n",
      " [ True  True  True]]\n",
      "[[ True  True  True]\n",
      " [ True  True  True]]\n",
      "[[ True  True  True]\n",
      " [ True  True  True]]\n",
      "False\n"
     ]
    }
   ],
   "source": [
    "a = np.array([(1.5,2,3), (4,5,6)], dtype = float)\n",
    "b = np.array([(0.1, 1, 0.1), (1, 0.1, 1)], dtype = float)\n",
    "\n",
    "print((a - b) == np.subtract(a,b)) #Subtraction  \n",
    "print((a + b) == np.add(b, a)) #Addition\n",
    "print((a / b) == np.divide(a,b)) #Division\n",
    "print((a * b) == np.multiply(a,b)) #Multiplication\n",
    "\n",
    "np.exp(a)  #Exponentiation\n",
    "np.sqrt(a) #Square root  \n",
    "np.sin(a)  #Element-wise sine\n",
    "np.cos(a)  #Element-wise cosine  \n",
    "np.log(a)  #Element-wise natural logarithm\n",
    "# a.dot(b)   #Dot product\n",
    "\n",
    "a == b #Element-wise comparison\n",
    "a < 2 #Element-wise comparison  \n",
    "print(np.array_equal(a, b)) #Array-wise comparison"
   ]
  },
  {
   "cell_type": "code",
   "execution_count": 24,
   "id": "2ee8f555",
   "metadata": {},
   "outputs": [
    {
     "data": {
      "text/plain": [
       "1.5920810978785667"
      ]
     },
     "execution_count": 24,
     "metadata": {},
     "output_type": "execute_result"
    }
   ],
   "source": [
    "a.sum() #Array-wise sum  \n",
    "a.min() #Array-wise minimum value \n",
    "a.max(axis=0) #Maximum value of an array row \n",
    "a.cumsum(axis=1) #Cumulative sum of the elements  \n",
    "a.mean() #Mean  \n",
    "np.median(a) #Median  \n",
    "np.corrcoef(a) #Correlation coefficient  \n",
    "np.std(a) #Standard deviation\n"
   ]
  },
  {
   "cell_type": "code",
   "execution_count": 25,
   "id": "da155a61",
   "metadata": {},
   "outputs": [],
   "source": [
    "h = a.view() #Create a view of the array with the same data  \n",
    "a_copy = np.copy(a) #Create a copy of the array \n",
    "a_deepcopy = a.copy() #Create a deep copy of the array"
   ]
  },
  {
   "cell_type": "markdown",
   "id": "45856c88",
   "metadata": {},
   "source": [
    "## Subsetting, Slicing, Indexing"
   ]
  },
  {
   "cell_type": "code",
   "execution_count": 28,
   "id": "91e0ee28",
   "metadata": {},
   "outputs": [
    {
     "data": {
      "text/plain": [
       "array([[1. , 0.1, 1. , 1. ],\n",
       "       [0.1, 1. , 0.1, 0.1],\n",
       "       [1. , 0.1, 1. , 1. ],\n",
       "       [0.1, 1. , 0.1, 0.1]])"
      ]
     },
     "execution_count": 28,
     "metadata": {},
     "output_type": "execute_result"
    }
   ],
   "source": [
    "a[1] #Select the element at the 2nd index  \n",
    "b[1,2] #Select the element at row 1 column 2 (equivalent to b[1][2]) \n",
    "\n",
    "   \n",
    "a[0:2] #Select items at index 0 and 1\n",
    "b[0:2,1] #Select items at rows 0 and 1 in column 1  \n",
    "b[:1] #Select all items at row 0 (equivalent to b[0:1, :])  \n",
    "b[1,...] #Same as [1,:,:]\n",
    "\n",
    "# Selecting a row:\n",
    "a[...,0]\n",
    "\n",
    "# Selecting a column:\n",
    "a[0,...]\n",
    "\n",
    "a[ : :-1] #Reversed array a array([3, 2, 1])\n",
    "\n",
    "a[a<2] #Select elements from a less than 2\n",
    "b[[1, 0, 1, 0],[0, 1, 2, 0]] #Select elements (1,0),(0,1),(1,2) and (0,0)  \n",
    "b[[1, 0, 1, 0]][:,[0,1,2,0]] #Select a subset of the matrix’s rows and columns "
   ]
  },
  {
   "cell_type": "markdown",
   "id": "5a601864",
   "metadata": {},
   "source": [
    "## Array Manipulation"
   ]
  },
  {
   "cell_type": "code",
   "execution_count": 32,
   "id": "3aecf6e4",
   "metadata": {},
   "outputs": [
    {
     "name": "stdout",
     "output_type": "stream",
     "text": [
      "[[ True  True]\n",
      " [ True  True]\n",
      " [ True  True]]\n",
      "[1.5 2.  3.  4.  5.  6. ]\n",
      "[[1.5 2. ]\n",
      " [3.  4. ]\n",
      " [5.  6. ]]\n"
     ]
    }
   ],
   "source": [
    "# Transposing arrays\n",
    "print(np.transpose(a) == a.T)\n",
    "\n",
    "# Changing array shapes:\n",
    "print(a.ravel()) #Flatten the array  \n",
    "print(a.reshape(3,-2))#Reshape, but don’t change data"
   ]
  },
  {
   "cell_type": "code",
   "execution_count": 14,
   "id": "a697e16f",
   "metadata": {},
   "outputs": [
    {
     "name": "stdout",
     "output_type": "stream",
     "text": [
      "[1. 3. 4. 5. 6.]\n"
     ]
    }
   ],
   "source": [
    "# Adding or Removing Elements\n",
    "a = np.array([(1,2,3), (4,5,6)], dtype = float)\n",
    "# g = a.ravel()\n",
    "b = np.zeros((2,3))\n",
    "\n",
    "# print(a.resize((2,6))) #Return a new array with shape (2,6)  \n",
    "# print(np.append(a,b)) #flatten and append\n",
    "# print(np.insert(a, 6, 11)) #Insert items in an array at location\n",
    "print(np.delete(a,[1])) #Delete items from an array"
   ]
  },
  {
   "cell_type": "code",
   "execution_count": 48,
   "id": "099c4839",
   "metadata": {},
   "outputs": [
    {
     "name": "stdout",
     "output_type": "stream",
     "text": [
      "[[ 0  1  2  3  4  5  6  7]\n",
      " [ 8  9 10 11 12 13 14 15]\n",
      " [16 17 18 19 20 21 22 23]]\n"
     ]
    }
   ],
   "source": [
    "a = np.arange(0,24,1)\n",
    "a = a.reshape(3,-1)\n",
    "print(a)\n",
    "# print(a.shape, a.ndim, a.size)\n",
    "\n",
    "# print(np.concatenate((a,b),axis=0)) #Concatenate arrays \n",
    "\n",
    "# Vertical and horizontal stacking\n",
    "# print(np.vstack((a,b))) #Stack arrays vertically (row-wise) \n",
    "# print(np.r_[a,b]) #Stack arrays vertically (row-wise)  \n",
    "\n",
    "# print(np.hstack((a,b))) #Stack arrays horizontally (column-wise)  \n",
    "# print(np.column_stack((a,b))) #Stack arrays horizontally (column-wise)  \n",
    "# print(np.c_[a,b]) #Stack arrays horizontally (column-wise)  \n",
    " \n",
    "# Splitting\n",
    "# print(np.hsplit(a,2)) #Split the array horizontally at the 3rd index\n",
    "# print(np.vsplit(a,2)) #Split the array vertically at the 2nd index "
   ]
  },
  {
   "cell_type": "code",
   "execution_count": 50,
   "id": "a4e4d16e",
   "metadata": {},
   "outputs": [
    {
     "name": "stdout",
     "output_type": "stream",
     "text": [
      "10\n",
      "20\n",
      "30\n",
      "40\n",
      "50\n",
      "60\n",
      "70\n"
     ]
    }
   ],
   "source": []
  },
  {
   "cell_type": "code",
   "execution_count": null,
   "id": "0e339ef9",
   "metadata": {},
   "outputs": [],
   "source": []
  }
 ],
 "metadata": {
  "kernelspec": {
   "display_name": "Python 3 (ipykernel)",
   "language": "python",
   "name": "python3"
  },
  "language_info": {
   "codemirror_mode": {
    "name": "ipython",
    "version": 3
   },
   "file_extension": ".py",
   "mimetype": "text/x-python",
   "name": "python",
   "nbconvert_exporter": "python",
   "pygments_lexer": "ipython3",
   "version": "3.8.10"
  }
 },
 "nbformat": 4,
 "nbformat_minor": 5
}
