{
 "cells": [
  {
   "cell_type": "code",
   "execution_count": 13,
   "id": "21c4b728",
   "metadata": {},
   "outputs": [],
   "source": [
    "import numpy as np\n",
    "\n",
    "class tmp:\n",
    "    def fun(x, data):\n",
    "        return [x[0]  + 0.5 * (x[0] - x[1])**3 - 1.0,\n",
    "                0.5 * (x[1] - x[0])**3 + x[1]]\n",
    "\n",
    "    def jac(x, data):\n",
    "        return np.array([[1 + 1.5 * (x[0] - x[1])**2,\n",
    "                          -1.5 * (x[0] - x[1])**2],\n",
    "                         [-1.5 * (x[1] - x[0])**2,\n",
    "                          1 + 1.5 * (x[1] - x[0])**2]])"
   ]
  },
  {
   "cell_type": "code",
   "execution_count": 4,
   "id": "5a09e400",
   "metadata": {},
   "outputs": [
    {
     "data": {
      "text/plain": [
       "array([0., 0.])"
      ]
     },
     "execution_count": 4,
     "metadata": {},
     "output_type": "execute_result"
    }
   ],
   "source": [
    "from scipy import optimize\n",
    "\n",
    "data = np.array([1, 2, 3, 4])\n",
    "\n",
    "sol = optimize.root(tmp.fun, [0, 0], args=(data), jac=tmp.jac, method='hybr')\n",
    "\n",
    "sol.x"
   ]
  },
  {
   "cell_type": "code",
   "execution_count": 14,
   "id": "55938f54",
   "metadata": {},
   "outputs": [
    {
     "name": "stdout",
     "output_type": "stream",
     "text": [
      "[-0.5, 2.5]\n",
      "[[ 2.5 -1.5]\n",
      " [-1.5  2.5]]\n"
     ]
    }
   ],
   "source": [
    "print(tmp.fun([1,2], ()))\n",
    "print(tmp.jac([1,2], ()))"
   ]
  },
  {
   "cell_type": "code",
   "execution_count": null,
   "id": "df081d38",
   "metadata": {},
   "outputs": [],
   "source": []
  }
 ],
 "metadata": {
  "kernelspec": {
   "display_name": "Python 3 (ipykernel)",
   "language": "python",
   "name": "python3"
  },
  "language_info": {
   "codemirror_mode": {
    "name": "ipython",
    "version": 3
   },
   "file_extension": ".py",
   "mimetype": "text/x-python",
   "name": "python",
   "nbconvert_exporter": "python",
   "pygments_lexer": "ipython3",
   "version": "3.8.10"
  }
 },
 "nbformat": 4,
 "nbformat_minor": 5
}
