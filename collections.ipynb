{
 "cells": [
  {
   "cell_type": "raw",
   "id": "234ed13c",
   "metadata": {},
   "source": [
    "## Python Collections\n",
    "\n",
    "Er zijn 4 verschillende data verzameling types in Python:\n",
    "\n",
    "    Tuple: is ordered and unchangeable. Allows duplicate members.\n",
    "    List: is ordered and changeable. Allows duplicate members.\n",
    "    Set: is unordered, unchangeable*, and unindexed. No duplicate members.\n",
    "    Dictionary: is ordered** and changeable. No duplicate members.\n"
   ]
  },
  {
   "cell_type": "markdown",
   "id": "1167d0b6",
   "metadata": {},
   "source": [
    "### Tuple\n",
    "Maken met -> ()\n",
    "\n",
    "Tuple items are ordered, unchangeable, and allow duplicate values"
   ]
  },
  {
   "cell_type": "code",
   "execution_count": 68,
   "id": "b60dd5e1",
   "metadata": {},
   "outputs": [],
   "source": [
    "tuple1 =  (\"Appel\", \"Banaan\", \"Kers\", \"Appel\", \"Peer\")"
   ]
  },
  {
   "cell_type": "code",
   "execution_count": 69,
   "id": "078f915d",
   "metadata": {},
   "outputs": [
    {
     "name": "stdout",
     "output_type": "stream",
     "text": [
      "('Appel', 'Banaan', 'Kers', 'Appel', 'Peer')\n"
     ]
    }
   ],
   "source": [
    "print(tuple1)"
   ]
  },
  {
   "cell_type": "markdown",
   "id": "9268c7d2",
   "metadata": {},
   "source": [
    "### Lists\n",
    "Maken met -> []\n",
    "\n",
    "List items are ordered, changeable, and allow duplicate values.\n",
    "List items are indexed, the first item has index [0], the second item has index [1] etc."
   ]
  },
  {
   "cell_type": "code",
   "execution_count": 70,
   "id": "20d526d4",
   "metadata": {},
   "outputs": [],
   "source": [
    "lijst1 = [\"Volkswagen\", \"BMW\", \"Toyota\", \"Volkswagen\"] # lijst met strings\n",
    "lijst2 = [1, 5, 7, 9, 3] # lijst met integers\n",
    "lijst3 = [True, False, False] # lijst met booleans\n",
    "lijst4 = [\"Volkswagen\", 1, True] # lijst met alle drie\n",
    "\n",
    "# Lijst maken van tuple\n",
    "lijst5 = list((\"Volkswagen\", \"BMW\"))\n",
    "\n",
    "# tuple_lijst = list(tuple1)"
   ]
  },
  {
   "cell_type": "code",
   "execution_count": 71,
   "id": "d56b93d7",
   "metadata": {},
   "outputs": [
    {
     "name": "stdout",
     "output_type": "stream",
     "text": [
      "['Volkswagen', 'BMW', 'Toyota', 'Volkswagen']\n",
      "[1, 5, 7, 9, 3]\n",
      "[True, False, False]\n",
      "['Volkswagen', 1, True]\n"
     ]
    }
   ],
   "source": [
    "print(lijst1)\n",
    "print(lijst2)\n",
    "print(lijst3)\n",
    "print(lijst4)"
   ]
  },
  {
   "cell_type": "code",
   "execution_count": 72,
   "id": "84e93919",
   "metadata": {},
   "outputs": [
    {
     "name": "stdout",
     "output_type": "stream",
     "text": [
      "['Volkswagen', 'VOLVO', 'BMW', 'Mercedes', 'Kia', 'Ferrari']\n"
     ]
    }
   ],
   "source": [
    "# Lijst uitbreiden met:\n",
    "lijst5.append(\"Mercedes\")\n",
    "lijst5.insert(1, \"VOLVO\")\n",
    "lijst5 += [\"Kia\", \"Ferrari\"]\n",
    "print(lijst5)"
   ]
  },
  {
   "cell_type": "markdown",
   "id": "913de232",
   "metadata": {},
   "source": [
    "### Sets\n",
    "Maken met -> {}\n",
    "\n",
    "Sets are used to store multiple items in a single variable.\n",
    "A set is a collection which is unordered and unindexed. Items can be added and removed, but not modified"
   ]
  },
  {
   "cell_type": "code",
   "execution_count": 73,
   "id": "d984c19d",
   "metadata": {},
   "outputs": [],
   "source": [
    "set1 = {\"Appel\", \"Banaan\", \"Kers\", \"Appel\", \"Peer\"}\n",
    "set1.add(\"Kiwi\")\n",
    "set1.remove(\"Peer\")\n",
    "\n",
    "set2 = set(tuple1)"
   ]
  },
  {
   "cell_type": "code",
   "execution_count": 74,
   "id": "60f64df6",
   "metadata": {
    "scrolled": true
   },
   "outputs": [
    {
     "name": "stdout",
     "output_type": "stream",
     "text": [
      "{'Kiwi', 'Appel', 'Kers', 'Banaan'}\n",
      "{'Peer', 'Appel', 'Kers', 'Banaan'}\n"
     ]
    }
   ],
   "source": [
    "print(set1)\n",
    "print(set2)"
   ]
  },
  {
   "cell_type": "markdown",
   "id": "11cccad4",
   "metadata": {},
   "source": [
    "### Dictionary\n",
    "Maken met -> {a: b}"
   ]
  },
  {
   "cell_type": "code",
   "execution_count": 75,
   "id": "a7abb8d4",
   "metadata": {},
   "outputs": [],
   "source": [
    "auto = {\n",
    "  \"merk\": \"Tesla\",\n",
    "  \"model\": \"S\",\n",
    "  \"bouwjaar\": 2021,\n",
    "  \"accessoires\": [\"Double motor\", \"90 kWh\"]\n",
    "}\n",
    "\n",
    "auto[\"kleur\"] = \"Wit\""
   ]
  },
  {
   "cell_type": "code",
   "execution_count": 76,
   "id": "d91e5feb",
   "metadata": {},
   "outputs": [
    {
     "name": "stdout",
     "output_type": "stream",
     "text": [
      "Tesla\n",
      "{'merk': 'Tesla', 'model': 'S', 'bouwjaar': 2021, 'accessoires': ['Double motor', '90 kWh'], 'kleur': 'Wit'}\n",
      "5\n"
     ]
    }
   ],
   "source": [
    "print(auto['merk'])\n",
    "print(auto)\n",
    "print(len(auto))"
   ]
  },
  {
   "cell_type": "code",
   "execution_count": null,
   "id": "fb7f5543",
   "metadata": {},
   "outputs": [],
   "source": []
  }
 ],
 "metadata": {
  "kernelspec": {
   "display_name": "Python 3 (ipykernel)",
   "language": "python",
   "name": "python3"
  },
  "language_info": {
   "codemirror_mode": {
    "name": "ipython",
    "version": 3
   },
   "file_extension": ".py",
   "mimetype": "text/x-python",
   "name": "python",
   "nbconvert_exporter": "python",
   "pygments_lexer": "ipython3",
   "version": "3.10.0"
  }
 },
 "nbformat": 4,
 "nbformat_minor": 5
}
