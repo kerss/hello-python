{
 "cells": [
  {
   "cell_type": "markdown",
   "id": "f759cf2a",
   "metadata": {},
   "source": [
    "## Sensor class voorbeeld\n",
    "Een eenvoudig voorbeeld hoe een sensor object zou kunnen werken.\n",
    "\n",
    "De sensor driver zou een externe library kunnen zijn, die het mogelijk maakt om iets uit te lezen, zoals een van de pinnen op de raspberry pi.\n",
    "\n",
    "De sensor class zelf helpt met de interface naar de driver, door een bias en gain toe te implementeren."
   ]
  },
  {
   "cell_type": "code",
   "execution_count": 9,
   "id": "a56c484e",
   "metadata": {},
   "outputs": [],
   "source": [
    "import random\n",
    "\n",
    "class SensorDriver:\n",
    "    def __init__(self):\n",
    "        pass\n",
    "    \n",
    "    def get_value(self):\n",
    "        return random.randrange(0, 100) / 100\n",
    "\n",
    "class Sensor:\n",
    "    def __init__(self, pin_driver):\n",
    "        self.pin_driver = pin_driver\n",
    "        self.bias = 0.\n",
    "        self.gain = 0.\n",
    "        \n",
    "    def set_gain(self, gain):\n",
    "        self.gain = gain\n",
    "        \n",
    "    def set_bias(self, bias):\n",
    "        self.bias = bias\n",
    "        \n",
    "    def get_meetwaarde(self):\n",
    "        meetwaarde = self.pin_driver.get_value()\n",
    "        return self.bias + meetwaarde * self.gain"
   ]
  },
  {
   "cell_type": "markdown",
   "id": "283a1688",
   "metadata": {},
   "source": [
    "Hieronder word een instantie van het sensor object aangemaakt met als input de hardware driver.\n",
    "Daarna word de gain en bias ingesteld, dit zou je bijv. ook kunnen doen met een calibratie routine."
   ]
  },
  {
   "cell_type": "code",
   "execution_count": 39,
   "id": "922d66ff",
   "metadata": {},
   "outputs": [
    {
     "name": "stdout",
     "output_type": "stream",
     "text": [
      "0.61\n"
     ]
    }
   ],
   "source": [
    "hardware_driver = SensorDriver()\n",
    "sensor = Sensor(hardware_driver)\n",
    "\n",
    "sensor.set_gain(1)\n",
    "sensor.set_bias(0)\n",
    "\n",
    "print(sensor.get_meetwaarde())"
   ]
  }
 ],
 "metadata": {
  "kernelspec": {
   "display_name": "Python 3 (ipykernel)",
   "language": "python",
   "name": "python3"
  },
  "language_info": {
   "codemirror_mode": {
    "name": "ipython",
    "version": 3
   },
   "file_extension": ".py",
   "mimetype": "text/x-python",
   "name": "python",
   "nbconvert_exporter": "python",
   "pygments_lexer": "ipython3",
   "version": "3.10.0"
  }
 },
 "nbformat": 4,
 "nbformat_minor": 5
}
