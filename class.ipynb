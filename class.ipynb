{
 "cells": [
  {
   "cell_type": "code",
   "execution_count": 1,
   "id": "674cf76b",
   "metadata": {},
   "outputs": [],
   "source": [
    "import time\n",
    "\n",
    "class Auto:\n",
    "    def __init__(self, soort, massa, vermogen):\n",
    "        self.soort = str(soort)\n",
    "        self.massa = float(massa)\n",
    "        self.vermogen = float(vermogen)\n",
    "        self.accessoire_lijst = list(())\n",
    "        \n",
    "        self.eddit_aantal = 0\n",
    "        self.eddit_tijd = time.localtime()\n",
    "  \n",
    "    def __str__(self):\n",
    "        return \"Auto Class \\n\" \\\n",
    "            \" Soort: %s, \\n Massa: %s \\n Vermogen: %s\" % (self.soort, self.massa, self.vermogen)\n",
    "    \n",
    "    def update(self):\n",
    "        self.eddit_tijd = time.localtime()\n",
    "        self.eddit_aantal += 1\n",
    "    \n",
    "    def accessoire_toevoegen(self, nieuwe_accessoire):\n",
    "        if type(nieuwe_accessoire) == str:\n",
    "            self.accessoire_lijst.append(nieuwe_accessoire)\n",
    "            self.update()\n",
    "        else:\n",
    "            print(\"Foute invoer\")\n",
    "        \n",
    "    def get_accessoires(self):\n",
    "        return self.accessoire_lijst\n",
    "    \n",
    "auto1 = Auto(\"Volkswagen\", 1600, 53)\n",
    "\n",
    "auto1.accessoire_toevoegen(\"Airco\")\n",
    "auto1.accessoire_toevoegen(\"Stuurbekrachtiging\")\n",
    "\n",
    "# print(auto1)\n",
    "# print(\"Accessoires:\\n\", auto1.get_accessoires())\n",
    "# print(\"Aantal eddits: \", auto1.eddit_aantal)"
   ]
  },
  {
   "cell_type": "code",
   "execution_count": 2,
   "id": "3518c0f4",
   "metadata": {},
   "outputs": [
    {
     "name": "stdout",
     "output_type": "stream",
     "text": [
      "Foute invoer\n",
      "['Airco', 'Stuurbekrachtiging']\n"
     ]
    }
   ],
   "source": [
    "auto1.accessoire_toevoegen(34234)\n",
    "# auto1.accessoire_lijst.append(12312)\n",
    "\n",
    "print(auto1.accessoire_lijst)"
   ]
  },
  {
   "cell_type": "code",
   "execution_count": null,
   "id": "d98943f7",
   "metadata": {},
   "outputs": [],
   "source": []
  }
 ],
 "metadata": {
  "kernelspec": {
   "display_name": "Python 3 (ipykernel)",
   "language": "python",
   "name": "python3"
  },
  "language_info": {
   "codemirror_mode": {
    "name": "ipython",
    "version": 3
   },
   "file_extension": ".py",
   "mimetype": "text/x-python",
   "name": "python",
   "nbconvert_exporter": "python",
   "pygments_lexer": "ipython3",
   "version": "3.10.0"
  }
 },
 "nbformat": 4,
 "nbformat_minor": 5
}
